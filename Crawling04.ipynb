{
 "cells": [
  {
   "cell_type": "code",
   "execution_count": 4,
   "metadata": {},
   "outputs": [],
   "source": [
    "import urllib \n",
    "import urllib.request\n",
    "import urllib.parse\n",
    "from bs4 import BeautifulSoup\n",
    "import re\n",
    "import os\n",
    "import time\n",
    "import requests"
   ]
  },
  {
   "cell_type": "markdown",
   "metadata": {},
   "source": [
    "사용된 라이브러리"
   ]
  },
  {
   "cell_type": "code",
   "execution_count": 22,
   "metadata": {},
   "outputs": [
    {
     "ename": "UnicodeEncodeError",
     "evalue": "'ascii' codec can't encode characters in position 32-34: ordinal not in range(128)",
     "output_type": "error",
     "traceback": [
      "\u001b[0;31m---------------------------------------------------------------------------\u001b[0m",
      "\u001b[0;31mUnicodeEncodeError\u001b[0m                        Traceback (most recent call last)",
      "\u001b[0;32m<ipython-input-22-e8e94b2822a3>\u001b[0m in \u001b[0;36m<module>\u001b[0;34m\u001b[0m\n\u001b[1;32m     16\u001b[0m         \u001b[0mlis\u001b[0m \u001b[0;34m=\u001b[0m \u001b[0mclean_text\u001b[0m\u001b[0;34m.\u001b[0m\u001b[0mselect\u001b[0m\u001b[0;34m(\u001b[0m\u001b[0;34m'.score_result li'\u001b[0m\u001b[0;34m)\u001b[0m\u001b[0;34m\u001b[0m\u001b[0;34m\u001b[0m\u001b[0m\n\u001b[1;32m     17\u001b[0m         \u001b[0murl_title_first\u001b[0m \u001b[0;34m=\u001b[0m\u001b[0;34m'https://movie.naver.com/movie/bi/mi/point.nhn?code='\u001b[0m\u001b[0;34m\u001b[0m\u001b[0;34m\u001b[0m\u001b[0m\n\u001b[0;32m---> 18\u001b[0;31m         \u001b[0murl_title\u001b[0m \u001b[0;34m=\u001b[0m \u001b[0murllib\u001b[0m\u001b[0;34m.\u001b[0m\u001b[0mrequest\u001b[0m\u001b[0;34m.\u001b[0m\u001b[0murlopen\u001b[0m\u001b[0;34m(\u001b[0m\u001b[0murl_title_first\u001b[0m\u001b[0;34m+\u001b[0m\u001b[0mstr\u001b[0m\u001b[0;34m(\u001b[0m\u001b[0mi\u001b[0m\u001b[0;34m)\u001b[0m\u001b[0;34m)\u001b[0m\u001b[0;34m\u001b[0m\u001b[0;34m\u001b[0m\u001b[0m\n\u001b[0m\u001b[1;32m     19\u001b[0m         \u001b[0mtitle_source\u001b[0m \u001b[0;34m=\u001b[0m \u001b[0murl_title\u001b[0m\u001b[0;34m.\u001b[0m\u001b[0mread\u001b[0m\u001b[0;34m(\u001b[0m\u001b[0;34m)\u001b[0m\u001b[0;34m.\u001b[0m\u001b[0mdecode\u001b[0m\u001b[0;34m(\u001b[0m\u001b[0;34m'utf-8'\u001b[0m\u001b[0;34m)\u001b[0m\u001b[0;34m\u001b[0m\u001b[0;34m\u001b[0m\u001b[0m\n\u001b[1;32m     20\u001b[0m         \u001b[0mtitle_data\u001b[0m \u001b[0;34m=\u001b[0m \u001b[0mBeautifulSoup\u001b[0m\u001b[0;34m(\u001b[0m\u001b[0mtitle_source\u001b[0m\u001b[0;34m,\u001b[0m\u001b[0;34m'html5lib'\u001b[0m\u001b[0;34m)\u001b[0m\u001b[0;34m\u001b[0m\u001b[0;34m\u001b[0m\u001b[0m\n",
      "\u001b[0;32m~/anaconda3/lib/python3.6/urllib/request.py\u001b[0m in \u001b[0;36murlopen\u001b[0;34m(url, data, timeout, cafile, capath, cadefault, context)\u001b[0m\n\u001b[1;32m    221\u001b[0m     \u001b[0;32melse\u001b[0m\u001b[0;34m:\u001b[0m\u001b[0;34m\u001b[0m\u001b[0;34m\u001b[0m\u001b[0m\n\u001b[1;32m    222\u001b[0m         \u001b[0mopener\u001b[0m \u001b[0;34m=\u001b[0m \u001b[0m_opener\u001b[0m\u001b[0;34m\u001b[0m\u001b[0;34m\u001b[0m\u001b[0m\n\u001b[0;32m--> 223\u001b[0;31m     \u001b[0;32mreturn\u001b[0m \u001b[0mopener\u001b[0m\u001b[0;34m.\u001b[0m\u001b[0mopen\u001b[0m\u001b[0;34m(\u001b[0m\u001b[0murl\u001b[0m\u001b[0;34m,\u001b[0m \u001b[0mdata\u001b[0m\u001b[0;34m,\u001b[0m \u001b[0mtimeout\u001b[0m\u001b[0;34m)\u001b[0m\u001b[0;34m\u001b[0m\u001b[0;34m\u001b[0m\u001b[0m\n\u001b[0m\u001b[1;32m    224\u001b[0m \u001b[0;34m\u001b[0m\u001b[0m\n\u001b[1;32m    225\u001b[0m \u001b[0;32mdef\u001b[0m \u001b[0minstall_opener\u001b[0m\u001b[0;34m(\u001b[0m\u001b[0mopener\u001b[0m\u001b[0;34m)\u001b[0m\u001b[0;34m:\u001b[0m\u001b[0;34m\u001b[0m\u001b[0;34m\u001b[0m\u001b[0m\n",
      "\u001b[0;32m~/anaconda3/lib/python3.6/urllib/request.py\u001b[0m in \u001b[0;36mopen\u001b[0;34m(self, fullurl, data, timeout)\u001b[0m\n\u001b[1;32m    524\u001b[0m             \u001b[0mreq\u001b[0m \u001b[0;34m=\u001b[0m \u001b[0mmeth\u001b[0m\u001b[0;34m(\u001b[0m\u001b[0mreq\u001b[0m\u001b[0;34m)\u001b[0m\u001b[0;34m\u001b[0m\u001b[0;34m\u001b[0m\u001b[0m\n\u001b[1;32m    525\u001b[0m \u001b[0;34m\u001b[0m\u001b[0m\n\u001b[0;32m--> 526\u001b[0;31m         \u001b[0mresponse\u001b[0m \u001b[0;34m=\u001b[0m \u001b[0mself\u001b[0m\u001b[0;34m.\u001b[0m\u001b[0m_open\u001b[0m\u001b[0;34m(\u001b[0m\u001b[0mreq\u001b[0m\u001b[0;34m,\u001b[0m \u001b[0mdata\u001b[0m\u001b[0;34m)\u001b[0m\u001b[0;34m\u001b[0m\u001b[0;34m\u001b[0m\u001b[0m\n\u001b[0m\u001b[1;32m    527\u001b[0m \u001b[0;34m\u001b[0m\u001b[0m\n\u001b[1;32m    528\u001b[0m         \u001b[0;31m# post-process response\u001b[0m\u001b[0;34m\u001b[0m\u001b[0;34m\u001b[0m\u001b[0;34m\u001b[0m\u001b[0m\n",
      "\u001b[0;32m~/anaconda3/lib/python3.6/urllib/request.py\u001b[0m in \u001b[0;36m_open\u001b[0;34m(self, req, data)\u001b[0m\n\u001b[1;32m    542\u001b[0m         \u001b[0mprotocol\u001b[0m \u001b[0;34m=\u001b[0m \u001b[0mreq\u001b[0m\u001b[0;34m.\u001b[0m\u001b[0mtype\u001b[0m\u001b[0;34m\u001b[0m\u001b[0;34m\u001b[0m\u001b[0m\n\u001b[1;32m    543\u001b[0m         result = self._call_chain(self.handle_open, protocol, protocol +\n\u001b[0;32m--> 544\u001b[0;31m                                   '_open', req)\n\u001b[0m\u001b[1;32m    545\u001b[0m         \u001b[0;32mif\u001b[0m \u001b[0mresult\u001b[0m\u001b[0;34m:\u001b[0m\u001b[0;34m\u001b[0m\u001b[0;34m\u001b[0m\u001b[0m\n\u001b[1;32m    546\u001b[0m             \u001b[0;32mreturn\u001b[0m \u001b[0mresult\u001b[0m\u001b[0;34m\u001b[0m\u001b[0;34m\u001b[0m\u001b[0m\n",
      "\u001b[0;32m~/anaconda3/lib/python3.6/urllib/request.py\u001b[0m in \u001b[0;36m_call_chain\u001b[0;34m(self, chain, kind, meth_name, *args)\u001b[0m\n\u001b[1;32m    502\u001b[0m         \u001b[0;32mfor\u001b[0m \u001b[0mhandler\u001b[0m \u001b[0;32min\u001b[0m \u001b[0mhandlers\u001b[0m\u001b[0;34m:\u001b[0m\u001b[0;34m\u001b[0m\u001b[0;34m\u001b[0m\u001b[0m\n\u001b[1;32m    503\u001b[0m             \u001b[0mfunc\u001b[0m \u001b[0;34m=\u001b[0m \u001b[0mgetattr\u001b[0m\u001b[0;34m(\u001b[0m\u001b[0mhandler\u001b[0m\u001b[0;34m,\u001b[0m \u001b[0mmeth_name\u001b[0m\u001b[0;34m)\u001b[0m\u001b[0;34m\u001b[0m\u001b[0;34m\u001b[0m\u001b[0m\n\u001b[0;32m--> 504\u001b[0;31m             \u001b[0mresult\u001b[0m \u001b[0;34m=\u001b[0m \u001b[0mfunc\u001b[0m\u001b[0;34m(\u001b[0m\u001b[0;34m*\u001b[0m\u001b[0margs\u001b[0m\u001b[0;34m)\u001b[0m\u001b[0;34m\u001b[0m\u001b[0;34m\u001b[0m\u001b[0m\n\u001b[0m\u001b[1;32m    505\u001b[0m             \u001b[0;32mif\u001b[0m \u001b[0mresult\u001b[0m \u001b[0;32mis\u001b[0m \u001b[0;32mnot\u001b[0m \u001b[0;32mNone\u001b[0m\u001b[0;34m:\u001b[0m\u001b[0;34m\u001b[0m\u001b[0;34m\u001b[0m\u001b[0m\n\u001b[1;32m    506\u001b[0m                 \u001b[0;32mreturn\u001b[0m \u001b[0mresult\u001b[0m\u001b[0;34m\u001b[0m\u001b[0;34m\u001b[0m\u001b[0m\n",
      "\u001b[0;32m~/anaconda3/lib/python3.6/urllib/request.py\u001b[0m in \u001b[0;36mhttps_open\u001b[0;34m(self, req)\u001b[0m\n\u001b[1;32m   1359\u001b[0m         \u001b[0;32mdef\u001b[0m \u001b[0mhttps_open\u001b[0m\u001b[0;34m(\u001b[0m\u001b[0mself\u001b[0m\u001b[0;34m,\u001b[0m \u001b[0mreq\u001b[0m\u001b[0;34m)\u001b[0m\u001b[0;34m:\u001b[0m\u001b[0;34m\u001b[0m\u001b[0;34m\u001b[0m\u001b[0m\n\u001b[1;32m   1360\u001b[0m             return self.do_open(http.client.HTTPSConnection, req,\n\u001b[0;32m-> 1361\u001b[0;31m                 context=self._context, check_hostname=self._check_hostname)\n\u001b[0m\u001b[1;32m   1362\u001b[0m \u001b[0;34m\u001b[0m\u001b[0m\n\u001b[1;32m   1363\u001b[0m         \u001b[0mhttps_request\u001b[0m \u001b[0;34m=\u001b[0m \u001b[0mAbstractHTTPHandler\u001b[0m\u001b[0;34m.\u001b[0m\u001b[0mdo_request_\u001b[0m\u001b[0;34m\u001b[0m\u001b[0;34m\u001b[0m\u001b[0m\n",
      "\u001b[0;32m~/anaconda3/lib/python3.6/urllib/request.py\u001b[0m in \u001b[0;36mdo_open\u001b[0;34m(self, http_class, req, **http_conn_args)\u001b[0m\n\u001b[1;32m   1316\u001b[0m             \u001b[0;32mtry\u001b[0m\u001b[0;34m:\u001b[0m\u001b[0;34m\u001b[0m\u001b[0;34m\u001b[0m\u001b[0m\n\u001b[1;32m   1317\u001b[0m                 h.request(req.get_method(), req.selector, req.data, headers,\n\u001b[0;32m-> 1318\u001b[0;31m                           encode_chunked=req.has_header('Transfer-encoding'))\n\u001b[0m\u001b[1;32m   1319\u001b[0m             \u001b[0;32mexcept\u001b[0m \u001b[0mOSError\u001b[0m \u001b[0;32mas\u001b[0m \u001b[0merr\u001b[0m\u001b[0;34m:\u001b[0m \u001b[0;31m# timeout error\u001b[0m\u001b[0;34m\u001b[0m\u001b[0;34m\u001b[0m\u001b[0m\n\u001b[1;32m   1320\u001b[0m                 \u001b[0;32mraise\u001b[0m \u001b[0mURLError\u001b[0m\u001b[0;34m(\u001b[0m\u001b[0merr\u001b[0m\u001b[0;34m)\u001b[0m\u001b[0;34m\u001b[0m\u001b[0;34m\u001b[0m\u001b[0m\n",
      "\u001b[0;32m~/anaconda3/lib/python3.6/http/client.py\u001b[0m in \u001b[0;36mrequest\u001b[0;34m(self, method, url, body, headers, encode_chunked)\u001b[0m\n\u001b[1;32m   1237\u001b[0m                 encode_chunked=False):\n\u001b[1;32m   1238\u001b[0m         \u001b[0;34m\"\"\"Send a complete request to the server.\"\"\"\u001b[0m\u001b[0;34m\u001b[0m\u001b[0;34m\u001b[0m\u001b[0m\n\u001b[0;32m-> 1239\u001b[0;31m         \u001b[0mself\u001b[0m\u001b[0;34m.\u001b[0m\u001b[0m_send_request\u001b[0m\u001b[0;34m(\u001b[0m\u001b[0mmethod\u001b[0m\u001b[0;34m,\u001b[0m \u001b[0murl\u001b[0m\u001b[0;34m,\u001b[0m \u001b[0mbody\u001b[0m\u001b[0;34m,\u001b[0m \u001b[0mheaders\u001b[0m\u001b[0;34m,\u001b[0m \u001b[0mencode_chunked\u001b[0m\u001b[0;34m)\u001b[0m\u001b[0;34m\u001b[0m\u001b[0;34m\u001b[0m\u001b[0m\n\u001b[0m\u001b[1;32m   1240\u001b[0m \u001b[0;34m\u001b[0m\u001b[0m\n\u001b[1;32m   1241\u001b[0m     \u001b[0;32mdef\u001b[0m \u001b[0m_send_request\u001b[0m\u001b[0;34m(\u001b[0m\u001b[0mself\u001b[0m\u001b[0;34m,\u001b[0m \u001b[0mmethod\u001b[0m\u001b[0;34m,\u001b[0m \u001b[0murl\u001b[0m\u001b[0;34m,\u001b[0m \u001b[0mbody\u001b[0m\u001b[0;34m,\u001b[0m \u001b[0mheaders\u001b[0m\u001b[0;34m,\u001b[0m \u001b[0mencode_chunked\u001b[0m\u001b[0;34m)\u001b[0m\u001b[0;34m:\u001b[0m\u001b[0;34m\u001b[0m\u001b[0;34m\u001b[0m\u001b[0m\n",
      "\u001b[0;32m~/anaconda3/lib/python3.6/http/client.py\u001b[0m in \u001b[0;36m_send_request\u001b[0;34m(self, method, url, body, headers, encode_chunked)\u001b[0m\n\u001b[1;32m   1248\u001b[0m             \u001b[0mskips\u001b[0m\u001b[0;34m[\u001b[0m\u001b[0;34m'skip_accept_encoding'\u001b[0m\u001b[0;34m]\u001b[0m \u001b[0;34m=\u001b[0m \u001b[0;36m1\u001b[0m\u001b[0;34m\u001b[0m\u001b[0;34m\u001b[0m\u001b[0m\n\u001b[1;32m   1249\u001b[0m \u001b[0;34m\u001b[0m\u001b[0m\n\u001b[0;32m-> 1250\u001b[0;31m         \u001b[0mself\u001b[0m\u001b[0;34m.\u001b[0m\u001b[0mputrequest\u001b[0m\u001b[0;34m(\u001b[0m\u001b[0mmethod\u001b[0m\u001b[0;34m,\u001b[0m \u001b[0murl\u001b[0m\u001b[0;34m,\u001b[0m \u001b[0;34m**\u001b[0m\u001b[0mskips\u001b[0m\u001b[0;34m)\u001b[0m\u001b[0;34m\u001b[0m\u001b[0;34m\u001b[0m\u001b[0m\n\u001b[0m\u001b[1;32m   1251\u001b[0m \u001b[0;34m\u001b[0m\u001b[0m\n\u001b[1;32m   1252\u001b[0m         \u001b[0;31m# chunked encoding will happen if HTTP/1.1 is used and either\u001b[0m\u001b[0;34m\u001b[0m\u001b[0;34m\u001b[0m\u001b[0;34m\u001b[0m\u001b[0m\n",
      "\u001b[0;32m~/anaconda3/lib/python3.6/http/client.py\u001b[0m in \u001b[0;36mputrequest\u001b[0;34m(self, method, url, skip_host, skip_accept_encoding)\u001b[0m\n\u001b[1;32m   1115\u001b[0m \u001b[0;34m\u001b[0m\u001b[0m\n\u001b[1;32m   1116\u001b[0m         \u001b[0;31m# Non-ASCII characters should have been eliminated earlier\u001b[0m\u001b[0;34m\u001b[0m\u001b[0;34m\u001b[0m\u001b[0;34m\u001b[0m\u001b[0m\n\u001b[0;32m-> 1117\u001b[0;31m         \u001b[0mself\u001b[0m\u001b[0;34m.\u001b[0m\u001b[0m_output\u001b[0m\u001b[0;34m(\u001b[0m\u001b[0mrequest\u001b[0m\u001b[0;34m.\u001b[0m\u001b[0mencode\u001b[0m\u001b[0;34m(\u001b[0m\u001b[0;34m'ascii'\u001b[0m\u001b[0;34m)\u001b[0m\u001b[0;34m)\u001b[0m\u001b[0;34m\u001b[0m\u001b[0;34m\u001b[0m\u001b[0m\n\u001b[0m\u001b[1;32m   1118\u001b[0m \u001b[0;34m\u001b[0m\u001b[0m\n\u001b[1;32m   1119\u001b[0m         \u001b[0;32mif\u001b[0m \u001b[0mself\u001b[0m\u001b[0;34m.\u001b[0m\u001b[0m_http_vsn\u001b[0m \u001b[0;34m==\u001b[0m \u001b[0;36m11\u001b[0m\u001b[0;34m:\u001b[0m\u001b[0;34m\u001b[0m\u001b[0;34m\u001b[0m\u001b[0m\n",
      "\u001b[0;31mUnicodeEncodeError\u001b[0m: 'ascii' codec can't encode characters in position 32-34: ordinal not in range(128)"
     ]
    }
   ],
   "source": [
    "base_url = 'https://movie.naver.com/movie/point/af/list.nhn?st=mcode&sword=179158&target=after&page=2'\n",
    "for i in range(10001,10002):\n",
    "    page = 1\n",
    "    retList = []\n",
    "    colSet = ()\n",
    "    while page < 20: \n",
    "        params= {'code':i,\n",
    "                'type':'after',\n",
    "                'isActualPointWriteExecute':'false',\n",
    "                'isMileageSubscriptionAlready':'false',\n",
    "                'isMileageSubscriptionReject':'false',\n",
    "                'page':page}\n",
    "        url = base_url+urllib.parse.urlencode(params)\n",
    "        res = requests.get(url)\n",
    "        clean_text = BeautifulSoup(re.sub(\"&#(?![0-9])\",\"\",res.text),'html5lib')\n",
    "        lis = clean_text.select('.score_result li')\n",
    "        url_title_first ='https://movie.naver.com/movie/bi/mi/point.nhn?code='\n",
    "        url_title = urllib.request.urlopen(url_title_first+str(i))\n",
    "        title_source = url_title.read().decode('utf-8')\n",
    "        title_data = BeautifulSoup(title_source,'html5lib')\n",
    "        title = title_data.findAll('title')\n",
    "        if len(title):\n",
    "            ret = ''\n",
    "            for i in title[0]:\n",
    "                if i is str:\n",
    "                    ret += i\n",
    "                else:\n",
    "                    ret += str(i)\n",
    "                clean_title = ret\n",
    "        title_nospace = clean_title.replace(' ','')\n",
    "        last_title = title_nospace.replace(':네이버영화','')\n",
    "        lt = last_title+\"(\"+str(i)+')'\n",
    "        for j in lis:\n",
    "            score = j.find('div',{'class':'star_score'}).find('em')\n",
    "            content = j.find('div',{'class':'score_reple'}).find('p')\n",
    "            print(score,lt,content)\n",
    "        page +=1"
   ]
  },
  {
   "cell_type": "markdown",
   "metadata": {},
   "source": [
    "아직 완벽한 코드로써 구현하진 않았습니다 현재 UnicodeEncodeError: 'ascii' codec can't encode characters 오류 해결중입니다."
   ]
  },
  {
   "cell_type": "code",
   "execution_count": null,
   "metadata": {},
   "outputs": [],
   "source": [
    "def getComments():\n",
    "    page= 1\n",
    "    code= 179158\n",
    "    def makeArgs(code,page):\n",
    "        params = {'code':code,\n",
    "                 'type':'after',\n",
    "                 'isActualPointWriteExecute':'false',\n",
    "                 'isMileageSubscriptionAlready':'false',\n",
    "                 'isMileageSubscriptionReject':'false',\n",
    "                 'page':page}\n",
    "        return urllib.parse.urlencode(params)\n",
    "    j =url+makeArgs(code,page)\n",
    "    print(j)"
   ]
  },
  {
   "cell_type": "code",
   "execution_count": 21,
   "metadata": {},
   "outputs": [
    {
     "name": "stdout",
     "output_type": "stream",
     "text": [
      "시네마천국(시네마 천국 : 네이버 영화)\n"
     ]
    }
   ],
   "source": [
    "for i in range(10001,10002):\n",
    "    url_title_first ='https://movie.naver.com/movie/bi/mi/point.nhn?code='\n",
    "    url_title = urllib.request.urlopen(url_title_first+str(i))\n",
    "    title_source = url_title.read().decode('utf-8')\n",
    "    title_data = BeautifulSoup(title_source,'html5lib')\n",
    "    title = title_data.findAll('title')\n",
    "    if len(title):\n",
    "        ret = ''\n",
    "        for i in title[0]:\n",
    "            if i is str:\n",
    "                ret += i\n",
    "            else:\n",
    "                ret += str(i)\n",
    "                clean_title = ret\n",
    "    title_nospace = clean_title.replace(' ','')\n",
    "    last_title = title_nospace.replace(':네이버영화','')\n",
    "    lt = last_title+\"(\"+str(i)+')'\n",
    "    print(lt)"
   ]
  },
  {
   "cell_type": "code",
   "execution_count": null,
   "metadata": {},
   "outputs": [],
   "source": [
    "    if len(title):\n",
    "        ret = ''\n",
    "        for i in title[0]:\n",
    "            if i is str:\n",
    "                ret += i\n",
    "            else:\n",
    "                ret += str(i)\n",
    "                clean_title = ret\n",
    "    title_nospace = clean_title.replace(' ','')\n",
    "    last_title = title_nospace.replace(':네이버영화','')\n",
    "    lt = last_title+\"(\"+str(i)+')'\n",
    "    lt"
   ]
  },
  {
   "cell_type": "code",
   "execution_count": null,
   "metadata": {},
   "outputs": [],
   "source": [
    "&type=after&isActualPointWriteExecute=false&isMileageSubscriptionAlready=false&isMileageSubscriptionReject=false&page=3"
   ]
  },
  {
   "cell_type": "code",
   "execution_count": null,
   "metadata": {},
   "outputs": [],
   "source": [
    "for i in url:\n",
    "            retList = []\n",
    "            colSet = set()\n",
    "            res = requests.get(url)\n",
    "            clean_text = BeautifulSoup(re.sub(\"&#(?![0-9])\",\"\",res.text),'html.parser')\n",
    "            clean_text"
   ]
  },
  {
   "cell_type": "code",
   "execution_count": 41,
   "metadata": {},
   "outputs": [
    {
     "ename": "TypeError",
     "evalue": "getComments() takes 0 positional arguments but 1 was given",
     "output_type": "error",
     "traceback": [
      "\u001b[0;31m---------------------------------------------------------------------------\u001b[0m",
      "\u001b[0;31mTypeError\u001b[0m                                 Traceback (most recent call last)",
      "\u001b[0;32m<ipython-input-41-f2edcc659415>\u001b[0m in \u001b[0;36m<module>\u001b[0;34m\u001b[0m\n\u001b[1;32m     42\u001b[0m         \u001b[0mretList\u001b[0m\u001b[0;34m.\u001b[0m\u001b[0mappend\u001b[0m\u001b[0;34m(\u001b[0m\u001b[0;34m(\u001b[0m\u001b[0mi\u001b[0m\u001b[0;34m,\u001b[0m\u001b[0mcontent\u001b[0m\u001b[0;34m,\u001b[0m\u001b[0mscore\u001b[0m\u001b[0;34m,\u001b[0m\u001b[0mlt\u001b[0m\u001b[0;34m)\u001b[0m\u001b[0;34m)\u001b[0m\u001b[0;34m\u001b[0m\u001b[0;34m\u001b[0m\u001b[0m\n\u001b[1;32m     43\u001b[0m         \u001b[0mprint\u001b[0m\u001b[0;34m(\u001b[0m\u001b[0mi\u001b[0m\u001b[0;34m,\u001b[0m\u001b[0mcontent\u001b[0m\u001b[0;34m,\u001b[0m\u001b[0mscore\u001b[0m\u001b[0;34m,\u001b[0m\u001b[0mlt\u001b[0m\u001b[0;34m)\u001b[0m\u001b[0;34m\u001b[0m\u001b[0;34m\u001b[0m\u001b[0m\n\u001b[0;32m---> 44\u001b[0;31m \u001b[0mgetComments\u001b[0m\u001b[0;34m(\u001b[0m\u001b[0;34m'179158'\u001b[0m\u001b[0;34m)\u001b[0m\u001b[0;34m\u001b[0m\u001b[0;34m\u001b[0m\u001b[0m\n\u001b[0m",
      "\u001b[0;31mTypeError\u001b[0m: getComments() takes 0 positional arguments but 1 was given"
     ]
    }
   ],
   "source": [
    "url = 'https://movie.naver.com/movie/bi/mi/point.nhn?'\n",
    "def getComment(code):\n",
    "    def makeArgs(code,page):\n",
    "        params = {'code':code,\n",
    "                 'type':'after',\n",
    "                 'isActualPointWriteExecute':'false',\n",
    "                 'isMileageSubscriptionAlready':'false',\n",
    "                 'isMileageSubscriptionReject':'false',\n",
    "                 'page':page}\n",
    "        return urllib.parse.urlencode(params)\n",
    "    retList = []\n",
    "    colSet = set()\n",
    "    page = 1\n",
    "    f = ulr + makeArgs(code,page)\n",
    "    clean_text = BeautifulSoup(re.sub(\"&#(?![0-9])\",\"\",res.text),'html.parser')\n",
    "    lis = clean_text.findAll('div',{'class':'score_result'})[0].findAll('li')\n",
    "    url_title_first ='https://movie.naver.com/movie/bi/mi/point.nhn?code='\n",
    "    url_title = urllib.request.urlopen(url_title_first+str(code))\n",
    "    title_source = url_title.read().decode('utf-8')\n",
    "    title_data = BeautifulSoup(title_source,'html5lib')\n",
    "    title = title_data.findAll('title')\n",
    "    for li in lis:\n",
    "        score = li.find('div',{'class':'star_score'}).find('em')\n",
    "        content = li.find('div',{'class':'score_reple'}).find('p')\n",
    "        url_title_first ='https://movie.naver.com/movie/bi/mi/point.nhn?code='\n",
    "        url_title = urllib.request.urlopen(url_title_first+str(code))\n",
    "        title_source = url_title.read().decode('utf-8')\n",
    "        title_data = BeautifulSoup(title_source,'html5lib')\n",
    "        title = title_data.findAll('title')\n",
    "        if len(title):\n",
    "            ret = ''\n",
    "            for i in title[0]:\n",
    "                if i is str:\n",
    "                    ret += i\n",
    "                else:\n",
    "                    ret += str(i)\n",
    "            clean_title = ret\n",
    "        title_nospace = clean_title.replace(' ','')\n",
    "        last_title = title_nospace.replace(':네이버영화','')\n",
    "        lt = last_title+\"(\"+str(code)+')'\n",
    "        count += 1\n",
    "        retList.append((i,content,score,lt))\n",
    "        print(i,content,score,lt)\n",
    "getComments(179158)"
   ]
  },
  {
   "cell_type": "code",
   "execution_count": 37,
   "metadata": {},
   "outputs": [
    {
     "ename": "IndentationError",
     "evalue": "unexpected indent (<ipython-input-37-e9099de0c3cb>, line 2)",
     "output_type": "error",
     "traceback": [
      "\u001b[0;36m  File \u001b[0;32m\"<ipython-input-37-e9099de0c3cb>\"\u001b[0;36m, line \u001b[0;32m2\u001b[0m\n\u001b[0;31m    def makeArgs(code,page):\u001b[0m\n\u001b[0m    ^\u001b[0m\n\u001b[0;31mIndentationError\u001b[0m\u001b[0;31m:\u001b[0m unexpected indent\n"
     ]
    }
   ],
   "source": [
    "\n",
    "retList = []\n",
    "colSet = set()\n",
    "page = 1\n",
    "f = ulr + makeArgs(code,page)\n",
    "clean_text = BeautifulSoup(re.sub(\"&#(?![0-9])\",\"\",res.text),'html.parser')\n",
    "lis = clean_text.findAll('div',{'class':'score_result'})[0].findAll('li')\n",
    "url_title_first ='https://movie.naver.com/movie/bi/mi/point.nhn?code='\n",
    "url_title = urllib.request.urlopen(url_title_first+str(code))\n",
    "title_source = url_title.read().decode('utf-8')\n",
    "title_data = BeautifulSoup(title_source,'html5lib')\n",
    "title = title_data.findAll('title')\n",
    "if len(title):\n",
    "    ret = ''\n",
    "    for i in title[0]:\n",
    "        if i is str:\n",
    "            ret += i\n",
    "        else:\n",
    "            ret += str(i)\n",
    "    clean_title = ret\n",
    "title_nospace = clean_title.replace(' ','')\n",
    "last_title = title_nospace.replace(':네이버영화','')\n",
    "lt = last_title+\"(\"+str(code)+')'\n",
    "for li in lis:\n",
    "    score = li.find('div',{'class':'star_score'}).find('em')\n",
    "    content = li.find('div',{'class':'score_reple'}).find('p')\n",
    "    url_title_first ='https://movie.naver.com/movie/bi/mi/point.nhn?code='\n",
    "    url_title = urllib.request.urlopen(url_title_first+str(code))\n",
    "    title_source = url_title.read().decode('utf-8')\n",
    "    title_data = BeautifulSoup(title_source,'html5lib')\n",
    "    title = title_data.findAll('title')\n",
    "    if len(title):\n",
    "        ret = ''\n",
    "        for i in title[0]:\n",
    "            if i is str:\n",
    "                ret += i\n",
    "            else:\n",
    "                ret += str(i)\n",
    "        clean_title = ret\n",
    "    title_nospace = clean_title.replace(' ','')\n",
    "    last_title = title_nospace.replace(':네이버영화','')\n",
    "    lt = last_title+\"(\"+str(code)+')'\n",
    "    count += 1\n",
    "    retList.append((i,content,score,lt))\n",
    "    print(i,content,score,lt)"
   ]
  },
  {
   "cell_type": "code",
   "execution_count": 38,
   "metadata": {},
   "outputs": [
    {
     "name": "stdout",
     "output_type": "stream",
     "text": [
      "유열의 음악앨범 : 네이버 영화 <p>영화보고 썸녀가 고백했습니다.. 추천하면 고백받음  </p> <em>8</em> 유열의음악앨범(179158)\n",
      "유열의 음악앨범 : 네이버 영화 <p><span class=\"ico_viewer\">관람객</span>리뷰 다 거짓말 하네... 개연성도 하나도 없고 억지로 레트로멜로 흉내만냈음 그냥 잘생긴 정해인 스크린으로 크게 봤다고 생각하면 됨  </p> <em>1</em> 유열의음악앨범(179158)\n",
      "유열의 음악앨범 : 네이버 영화 <p>진짜 평점 알바가 있던지 아님 영화 관계자들이 별점 노이즈를 만들던 하는 게 확실하네요..  정해인 김고은 무대인사 하는거 봤고 영화 기대하고 봤으나 너무 개연성없이 스토리 진행 되다가 끝나서 당황 했습니다.  보신 분들은 공감안하나요?  </p> <em>1</em> 유열의음악앨범(179158)\n",
      "유열의 음악앨범 : 네이버 영화 <p>어떤 제정신이 아닌 분이 두부를 찾으러 빵집에 들가죠???  </p> <em>2</em> 유열의음악앨범(179158)\n",
      "유열의 음악앨범 : 네이버 영화 <p>영화가 구구절절 설명하지 않아서 좋았다.우연이 겹치면 필연이 되고 운명이 되는거지..기적 별거 아니야 그치?  </p> <em>10</em> 유열의음악앨범(179158)\n",
      "유열의 음악앨범 : 네이버 영화 <p><span class=\"ico_viewer\">관람객</span>뻔한 스토리에 연관없는 전개들. 평점에 속았다 --  </p> <em>1</em> 유열의음악앨범(179158)\n",
      "유열의 음악앨범 : 네이버 영화 <p>정해인김고은 캐스팅하신 분 복받으세요  </p> <em>9</em> 유열의음악앨범(179158)\n",
      "유열의 음악앨범 : 네이버 영화 <p>어... 영화제목이 사실 의미가 없는들한 영화 내용이고. 스토리나 개연성 이전에 감독이 연출을 첨부터 다시 배워야함. 대사나 영화 장면으로 스토리가 딱딱 연결이 안되고 간정선이 전혀 살지못함. 시대에 안맞는 소품도 그렇고 감독이 기본기부터 배워야할듯  </p> <em>1</em> 유열의음악앨범(179158)\n",
      "유열의 음악앨범 : 네이버 영화 <p>개연성없는 역대급 멜로영화. 댓글알바들이 판을 치길래 처음 평점쓰고감. 한6점짜리 영화임. 그냥 정해인 나오는 영화이며, 명작들의 이것저것 짬뽕해놓은듯한 영화. 조잡함  </p> <em>1</em> 유열의음악앨범(179158)\n",
      "유열의 음악앨범 : 네이버 영화 <p>늦여름과 초가을에 딱 어울리는 감성멜로.유열의음악앨범  </p> <em>10</em> 유열의음악앨범(179158)\n"
     ]
    }
   ],
   "source": [
    "code = 179158\n",
    "url1 = 'https://movie.naver.com/movie/bi/mi/pointWriteFormList.nhn?code=179158&type=after&isActualPointWriteExecute=false&isMileageSubscriptionAlready=false&isMileageSubscriptionReject=false&page=1'\n",
    "res = requests.get(url1)\n",
    "clean_text = BeautifulSoup(re.sub(\"&#(?![0-9])\",\"\",res.text),'html.parser')\n",
    "lis = clean_text.findAll('div',{'class':'score_result'})[0].findAll('li')\n",
    "score_result = []\n",
    "count = 0\n",
    "url_title_first ='https://movie.naver.com/movie/bi/mi/point.nhn?code='\n",
    "url_title = urllib.request.urlopen(url_title_first+str(code))\n",
    "title_source = url_title.read().decode('utf-8')\n",
    "title_data = BeautifulSoup(title_source,'html5lib')\n",
    "title = title_data.findAll('title')\n",
    "if len(title):\n",
    "    ret = ''\n",
    "    for i in title[0]:\n",
    "        if i is str:\n",
    "            ret += i\n",
    "        else:\n",
    "            ret += str(i)\n",
    "    clean_title = ret\n",
    "title_nospace = clean_title.replace(' ','')\n",
    "last_title = title_nospace.replace(':네이버영화','')\n",
    "lt = last_title+\"(\"+str(code)+')'\n",
    "for li in lis:\n",
    "    score = li.find('div',{'class':'star_score'}).find('em')\n",
    "    content = li.find('div',{'class':'score_reple'}).find('p')\n",
    "    url_title_first ='https://movie.naver.com/movie/bi/mi/point.nhn?code='\n",
    "    url_title = urllib.request.urlopen(url_title_first+str(code))\n",
    "    title_source = url_title.read().decode('utf-8')\n",
    "    title_data = BeautifulSoup(title_source,'html5lib')\n",
    "    title = title_data.findAll('title')\n",
    "    if len(title):\n",
    "        ret = ''\n",
    "        for i in title[0]:\n",
    "            if i is str:\n",
    "                ret += i\n",
    "            else:\n",
    "                ret += str(i)\n",
    "        clean_title = ret\n",
    "    title_nospace = clean_title.replace(' ','')\n",
    "    last_title = title_nospace.replace(':네이버영화','')\n",
    "    lt = last_title+\"(\"+str(code)+')'\n",
    "    count += 1\n",
    "    retList.append((i,content,score,lt))\n",
    "    print(i,content,score,lt)"
   ]
  },
  {
   "cell_type": "code",
   "execution_count": 22,
   "metadata": {},
   "outputs": [
    {
     "name": "stdout",
     "output_type": "stream",
     "text": [
      "유열의 음악앨범 : 네이버 영화\n"
     ]
    }
   ],
   "source": [
    "if len(title):\n",
    "    ret = ''\n",
    "    for i in title[0]:\n",
    "        if i is str:\n",
    "            ret += i\n",
    "        else:\n",
    "            ret += str(i)\n",
    "    print(ret)"
   ]
  },
  {
   "cell_type": "code",
   "execution_count": 14,
   "metadata": {},
   "outputs": [
    {
     "ename": "NameError",
     "evalue": "name 'i' is not defined",
     "output_type": "error",
     "traceback": [
      "\u001b[0;31m---------------------------------------------------------------------------\u001b[0m",
      "\u001b[0;31mNameError\u001b[0m                                 Traceback (most recent call last)",
      "\u001b[0;32m<ipython-input-14-7e85ae931b20>\u001b[0m in \u001b[0;36m<module>\u001b[0;34m\u001b[0m\n\u001b[1;32m      3\u001b[0m     \u001b[0mcontent\u001b[0m \u001b[0;34m=\u001b[0m \u001b[0mli\u001b[0m\u001b[0;34m.\u001b[0m\u001b[0mfind\u001b[0m\u001b[0;34m(\u001b[0m\u001b[0;34m'div'\u001b[0m\u001b[0;34m,\u001b[0m\u001b[0;34m{\u001b[0m\u001b[0;34m'class'\u001b[0m\u001b[0;34m:\u001b[0m\u001b[0;34m'score_reple'\u001b[0m\u001b[0;34m}\u001b[0m\u001b[0;34m)\u001b[0m\u001b[0;34m.\u001b[0m\u001b[0mfind\u001b[0m\u001b[0;34m(\u001b[0m\u001b[0;34m'p'\u001b[0m\u001b[0;34m)\u001b[0m\u001b[0;34m\u001b[0m\u001b[0;34m\u001b[0m\u001b[0m\n\u001b[1;32m      4\u001b[0m     \u001b[0mcount\u001b[0m \u001b[0;34m+=\u001b[0m \u001b[0;36m1\u001b[0m\u001b[0;34m\u001b[0m\u001b[0;34m\u001b[0m\u001b[0m\n\u001b[0;32m----> 5\u001b[0;31m     \u001b[0mprint\u001b[0m\u001b[0;34m(\u001b[0m\u001b[0mi\u001b[0m\u001b[0;34m,\u001b[0m\u001b[0mcontent\u001b[0m\u001b[0;34m)\u001b[0m\u001b[0;34m\u001b[0m\u001b[0;34m\u001b[0m\u001b[0m\n\u001b[0m",
      "\u001b[0;31mNameError\u001b[0m: name 'i' is not defined"
     ]
    }
   ],
   "source": [
    "for li in lis:\n",
    "    score = li.find('div',{'class':'star_score'}).find('em')\n",
    "    content = li.find('div',{'class':'score_reple'}).find('p')\n",
    "    count += 1\n",
    "    print(i,content)"
   ]
  },
  {
   "cell_type": "code",
   "execution_count": null,
   "metadata": {},
   "outputs": [],
   "source": []
  },
  {
   "cell_type": "code",
   "execution_count": 39,
   "metadata": {},
   "outputs": [
    {
     "name": "stdout",
     "output_type": "stream",
     "text": [
      "<_sre.SRE_Match object; span=(30, 38), match='16094431'>\n",
      "16094431\n",
      "<_sre.SRE_Match object; span=(30, 38), match='16098504'>\n",
      "16098504\n",
      "<_sre.SRE_Match object; span=(30, 38), match='16098338'>\n",
      "16098338\n",
      "<_sre.SRE_Match object; span=(30, 38), match='16099001'>\n",
      "16099001\n",
      "<_sre.SRE_Match object; span=(30, 38), match='16094456'>\n",
      "16094456\n",
      "<_sre.SRE_Match object; span=(30, 38), match='16096287'>\n",
      "16096287\n",
      "<_sre.SRE_Match object; span=(30, 38), match='16094443'>\n",
      "16094443\n",
      "<_sre.SRE_Match object; span=(30, 38), match='16098553'>\n",
      "16098553\n",
      "<_sre.SRE_Match object; span=(30, 38), match='16097834'>\n",
      "16097834\n",
      "<_sre.SRE_Match object; span=(30, 38), match='16094449'>\n",
      "16094449\n"
     ]
    },
    {
     "data": {
      "text/plain": [
       "[\"javascript:showPointListByNid(16094431, 'after');parent.clickcr(this, 'ara.uid', '', '', event); return false;\",\n",
       " \"javascript:showPointListByNid(16098504, 'after');parent.clickcr(this, 'ara.uid', '', '', event); return false;\",\n",
       " \"javascript:showPointListByNid(16098338, 'after');parent.clickcr(this, 'ara.uid', '', '', event); return false;\",\n",
       " \"javascript:showPointListByNid(16099001, 'after');parent.clickcr(this, 'ara.uid', '', '', event); return false;\",\n",
       " \"javascript:showPointListByNid(16094456, 'after');parent.clickcr(this, 'ara.uid', '', '', event); return false;\",\n",
       " \"javascript:showPointListByNid(16096287, 'after');parent.clickcr(this, 'ara.uid', '', '', event); return false;\",\n",
       " \"javascript:showPointListByNid(16094443, 'after');parent.clickcr(this, 'ara.uid', '', '', event); return false;\",\n",
       " \"javascript:showPointListByNid(16098553, 'after');parent.clickcr(this, 'ara.uid', '', '', event); return false;\",\n",
       " \"javascript:showPointListByNid(16097834, 'after');parent.clickcr(this, 'ara.uid', '', '', event); return false;\",\n",
       " \"javascript:showPointListByNid(16094449, 'after');parent.clickcr(this, 'ara.uid', '', '', event); return false;\"]"
      ]
     },
     "execution_count": 39,
     "metadata": {},
     "output_type": "execute_result"
    }
   ],
   "source": [
    "retList = []\n",
    "colSet = set()\n",
    "for li in lis:\n",
    "    url = li.select('.score_reple em a')[0].get('onclick')\n",
    "    m = re.search('[0-9]+',url)\n",
    "    print(m)\n",
    "    if m:\n",
    "        n =m.group(0)\n",
    "        print(n)\n",
    "    if url in colSet:\n",
    "        retList\n",
    "        print(retList)\n",
    "    colSet.add(url)\n",
    "    retList.append((url))\n",
    "retList\n",
    "    "
   ]
  },
  {
   "cell_type": "code",
   "execution_count": 19,
   "metadata": {},
   "outputs": [
    {
     "ename": "TypeError",
     "evalue": "must be str, not int",
     "output_type": "error",
     "traceback": [
      "\u001b[0;31m---------------------------------------------------------------------------\u001b[0m",
      "\u001b[0;31mTypeError\u001b[0m                                 Traceback (most recent call last)",
      "\u001b[0;32m<ipython-input-19-bd55ceb1a999>\u001b[0m in \u001b[0;36m<module>\u001b[0;34m\u001b[0m\n\u001b[1;32m      2\u001b[0m \u001b[0ma\u001b[0m\u001b[0;34m=\u001b[0m\u001b[0;36m123\u001b[0m\u001b[0;34m\u001b[0m\u001b[0;34m\u001b[0m\u001b[0m\n\u001b[1;32m      3\u001b[0m \u001b[0mb\u001b[0m\u001b[0;34m=\u001b[0m\u001b[0;36m123\u001b[0m\u001b[0;34m\u001b[0m\u001b[0;34m\u001b[0m\u001b[0m\n\u001b[0;32m----> 4\u001b[0;31m \u001b[0mj\u001b[0m \u001b[0;34m=\u001b[0m \u001b[0;34m'https://movie.naver.com/movie/bi/mi/point.nhn?code='\u001b[0m\u001b[0;34m+\u001b[0m\u001b[0ma\u001b[0m\u001b[0;34m+\u001b[0m\u001b[0;34m'&type=after&isActualPointWriteExecute=false&isMileageSubscriptionAlready=false&isMileageSubscriptionReject=false&page='\u001b[0m\u001b[0;34m+\u001b[0m\u001b[0mb\u001b[0m\u001b[0;34m\u001b[0m\u001b[0;34m\u001b[0m\u001b[0m\n\u001b[0m",
      "\u001b[0;31mTypeError\u001b[0m: must be str, not int"
     ]
    }
   ],
   "source": [
    "url1 = 'https://movie.naver.com/movie/bi/mi/point.nhn?code=179158&type=after&isActualPointWriteExecute=false&isMileageSubscriptionAlready=false&isMileageSubscriptionReject=false&page=1'\n",
    "a=123\n",
    "b=123\n",
    "j = 'https://movie.naver.com/movie/bi/mi/point.nhn?code='+a+'&type=after&isActualPointWriteExecute=false&isMileageSubscriptionAlready=false&isMileageSubscriptionReject=false&page='+b\n"
   ]
  },
  {
   "cell_type": "code",
   "execution_count": null,
   "metadata": {},
   "outputs": [],
   "source": []
  },
  {
   "cell_type": "code",
   "execution_count": null,
   "metadata": {},
   "outputs": [],
   "source": []
  }
 ],
 "metadata": {
  "kernelspec": {
   "display_name": "Python 3",
   "language": "python",
   "name": "python3"
  },
  "language_info": {
   "codemirror_mode": {
    "name": "ipython",
    "version": 3
   },
   "file_extension": ".py",
   "mimetype": "text/x-python",
   "name": "python",
   "nbconvert_exporter": "python",
   "pygments_lexer": "ipython3",
   "version": "3.6.8"
  }
 },
 "nbformat": 4,
 "nbformat_minor": 2
}
