{
 "cells": [
  {
   "cell_type": "markdown",
   "metadata": {},
   "source": [
    "## 네이버 영화별 영화댓글 크롤러"
   ]
  },
  {
   "cell_type": "code",
   "execution_count": null,
   "metadata": {},
   "outputs": [],
   "source": [
    "import urllib \n",
    "import urllib.request\n",
    "import urllib.parse\n",
    "from bs4 import BeautifulSoup\n",
    "import re\n",
    "import os\n",
    "import time\n",
    "import requests\n",
    "import pandas as pd\n",
    "from multiprocessing import Pool"
   ]
  },
  {
   "cell_type": "markdown",
   "metadata": {},
   "source": [
    "사용된 라이브러리"
   ]
  },
  {
   "cell_type": "code",
   "execution_count": 11,
   "metadata": {},
   "outputs": [
    {
     "data": {
      "text/plain": [
       "[    score                                             review   title\n",
       " 0      10  배경음  의 감동적인 선율과 영사기에서 나오는 달콤한 키스 장면들을 보며 토토의 회...  시네마 천국\n",
       " 1       9                   불멸의 명작 영화인을 꿈꾸는 사람이라면 반드시 봐야할 영화  시네마 천국\n",
       " 2      10  탄탄한 스토리와 거장 엔니오 모리꼬네가 만들어낸 최고의 영화 몇번을 봐도 마지막장면...  시네마 천국\n",
       " 3      10                       년이 훨씬 지났지만 아직도 생각하면 가슴이 벅차네요  시네마 천국\n",
       " 4      10                 오랜만에 다시 보아도 너무 예쁘고 사랑스런 눈물나게 하는 영화  시네마 천국\n",
       " 5      10  지금 극장에 걸려 있는 건 축약판분 축약판만 보신 분들은 꼭 감독판분도 구해서 보시...  시네마 천국\n",
       " 6       1  영화관에서 절대 보지말아라 이야기를 끌어가는 주요 이야기인 엘레나와 토토의 재회부분...  시네마 천국\n",
       " 7      10  대에 보았다 그때는 왜 눈물이 그치지 않는지 알수가 없었다 중반 이제서 다시 보고 ...  시네마 천국\n",
       " 8      10   아 근데 재개봉 버전 뭐이렇게 삭제된 장면이 많냐 후반 엘레나 시퀀스는 통째로 삭제됐네  시네마 천국\n",
       " 9      10                                  삶의 모든 것이 들어있었다 ㅠㅠ  시네마 천국\n",
       " 10      9       살바토레와 알프레도의 케미는 가히 역대급이다 명작의 가치는 역시 시대를 초월한다  시네마 천국\n",
       " 11     10  무슨 네오리얼리즘 영화도 아니고 구지 해석하고 분석하려 하지 말아라그냥 그대로 보고...  시네마 천국\n",
       " 12      6  신촌에서 예전시네마천국  기대했는데   너무영화가  뚝뚝 끊어지냉 ㄴ누가  편집했는...  시네마 천국\n",
       " 13     10                                      만 들어도 눈물나는 영화  시네마 천국\n",
       " 14     10  아주  먼  훗날 이제  더는  흘릴  눈물이 남아 있을 것 같지  않을 그 날에도...  시네마 천국\n",
       " 15     10  관람객왜 죽기 전에 꼭 봐야 하는 영화인지 알겠습니다 오늘 시 분에 관람했는데 정말...  시네마 천국\n",
       " 16     10  살아가는 동안 누구나 하나쯤 시네마천국을 가질것이다 이영화는 나의 시네마천국을 생각...  시네마 천국\n",
       " 17     10                             마지막 장면은 절대 잊을 수 없을 것이다  시네마 천국\n",
       " 18     10  제 인생 최고의 영화였습니다아직도 이보다 더한 감동과그리움을 느끼는 영화는 만나지 ...  시네마 천국\n",
       " 19     10  방금 감독판 봤는데 이런 걸작을 지금까지 못본게 후회가 될만큼 큰 감명을 받았네요 ...  시네마 천국\n",
       " 20     10                                    너무슬프다 말그대로 명작이다  시네마 천국\n",
       " 21      8             관람객시대는 변하고 기억은 변하지 않기때문에아름답게 추억할수있는 과거  시네마 천국\n",
       " 22      8                            영화는 무엇일까 인생의 또다른 말이 아닐까  시네마 천국\n",
       " 23      8  글 남기려다 다른 글들 봤는데 감독판이 있나봐요 감독판은 얼마나 더 대단할까 감독판...  시네마 천국\n",
       " 24     10  년 고때 영화관에서 돈주고 번 본영화친척언니랑 여름방학때보고 넘감동적인 영화여서 친...  시네마 천국\n",
       " 25     10                             단언컨대 시네마 천국은 최고의 영화입니다  시네마 천국\n",
       " 26     10                            마지막 장면은 울지 않고는 볼 수 없었다는  시네마 천국\n",
       " 27      9                     관람객최고의 영화를 지금 다시 볼 수 있어서 좋았습니다  시네마 천국\n",
       " 28     10  요즘 영화에 비하면 전개가 느리고 긴 시간이라 지루할 수 있지만 결말 여운이 평생감 진짜  시네마 천국\n",
       " 29     10                       어떠한 긴 말보다 엄청난 감동이 밀려오는 영화입니다  시네마 천국\n",
       " ..    ...                                                ...     ...\n",
       " 960     8                                  지금세대가 보기엔 명작은 아니다  시네마 천국\n",
       " 961    10                 그냥 눈물이 왜나는지 모르는데 눈물이 흘르는 정말 최고의 영화  시네마 천국\n",
       " 962    10                        소름이돋으면서 눈물이난다 뭐라고해야할지 정말최고다  시네마 천국\n",
       " 963    10                                         번도 넘게 본 영화  시네마 천국\n",
       " 964    10             역시 명작은 시간이 지나도 명작이네요ㅋㅋㅋㅋ 마지막 장면은 정말 최고  시네마 천국\n",
       " 965    10                              이런 영화는 한번쯤 봐줘야 된다 정말로  시네마 천국\n",
       " 966    10                                         점 안주기 힘든영화  시네마 천국\n",
       " 967    10                               음악이 너무 좋다 스토리도 감동적이고  시네마 천국\n",
       " 968    10                                        토토젊을때멋잇다ㅋㅋㅋ  시네마 천국\n",
       " 969    10           어렸을때 티비서 볼때 지루했었는데최근 다시 보게 되었다내생에 최고의 영화  시네마 천국\n",
       " 970    10                    말이 필요없는 영화 정말 세기의 명작이 아닐 수 없습니다  시네마 천국\n",
       " 971    10                                           음악만으로도 점  시네마 천국\n",
       " 972    10                                       어릴적 많이 울었던영화  시네마 천국\n",
       " 973    10                             아이 영화를 왜 이제서야 봤을까 ㅠㅠ최고  시네마 천국\n",
       " 974    10                              내 주변을 돌아보게 하는 영화다운 영화  시네마 천국\n",
       " 975    10            사랑 우정 추억들이 그리운 사람들에게 추천한다 이보다 더 좋을 순 없다  시네마 천국\n",
       " 976    10                 스토리배우음향사랑의 간절함에 대한 표현이 어느 영화보다도 짙다  시네마 천국\n",
       " 977    10                                           순수자체의 영화  시네마 천국\n",
       " 978    10                                           내인생최고의영화  시네마 천국\n",
       " 979    10       엔니오님 사랑합니다 ㅜ 아 정말 엔딩의 여운은 ㅜㅜ 감동 그 자체 이런게 영화임  시네마 천국\n",
       " 980    10                                      말이필요없는 영화 최고다  시네마 천국\n",
       " 981    10                                        한마디로 최고의 영화  시네마 천국\n",
       " 982    10                        살때 처음 이영화를 보고 영화인의 꿈을 키웠었는데  시네마 천국\n",
       " 983    10                                        아직도 이영화 때문에  시네마 천국\n",
       " 984    10           일제점령기상해시역사의뒤안길이 아닌현재에가까운느낌마지막 처형장면이아른거린다  시네마 천국\n",
       " 985     4                솔직히 지루하고 개인적으로 평점이 왜 높은지 이해가 안되는영화임  시네마 천국\n",
       " 986    10                                          목까지타오르는전율  시네마 천국\n",
       " 987    10                   정말 최고의 영화 감정이 메마른다면 이 영화를 통해 적셔라  시네마 천국\n",
       " 988    10          눈물이 매말랐다는 평을 듣는 내가 메인 테마곡만 들어도 눈물이 납니다 ㅠㅜ  시네마 천국\n",
       " 989    10            진정한 명작이다 시네마천국 다섯글자만 봐도 가슴이 아려오고 눈물이 난다  시네마 천국\n",
       " \n",
       " [990 rows x 3 columns]]"
      ]
     },
     "execution_count": 11,
     "metadata": {},
     "output_type": "execute_result"
    }
   ],
   "source": [
    "def get(n):\n",
    "    base_url = 'https://movie.naver.com/movie/bi/mi/pointWriteFormList.nhn?'\n",
    "    data = []\n",
    "\n",
    "    def hangle(s):\n",
    "        return re.sub('[^ ㄱ-ㅣ가-힣]+', '', str(s)).strip()\n",
    "\n",
    "    def num(s):\n",
    "        return re.sub('[^ 0-9]+', '', str(s)).strip()\n",
    "\n",
    "    for i in range(10001, n):\n",
    "        for page in range(1, 100):\n",
    "            params = {'code': i,\n",
    "                      'type': 'after',\n",
    "                      'isActualPointWriteExecute': 'false',\n",
    "                      'isMileageSubscriptionAlready': 'false',\n",
    "                      'isMileageSubscriptionReject': 'false',\n",
    "                      'page': page}\n",
    "            url = base_url + urllib.parse.urlencode(params)\n",
    "            title_url = 'https://movie.naver.com/movie/point/af/list.nhn?st=mcode&sword={}&target=after&page={}'\n",
    "            res = requests.get(url)\n",
    "            title_res = requests.get(title_url.format(i, page))\n",
    "            clean_text = BeautifulSoup(re.sub(\"&#(?![0-9])\", \"\", res.text), 'html5lib')\n",
    "            title_text = BeautifulSoup(re.sub(\"&#(?![0-9])\", \"\", title_res.text), 'html5lib')\n",
    "            lis = clean_text.find('div', {'class', 'score_result'}).find('ul')\n",
    "            score = clean_text.select('div.star_score > em')\n",
    "            review = clean_text.select('div.score_reple > p')\n",
    "            title = title_text.select('table.list_netizen > tbody > tr > td.title > a.movie')\n",
    "            for a, b, c in zip(score, review, title):\n",
    "                re_score = num(a)\n",
    "                re_review = hangle(b)\n",
    "                re_title = hangle(c)\n",
    "                data.append([re_score, re_review, re_title])\n",
    "    df = pd.DataFrame(data, columns=['score', 'review', 'title'])\n",
    "    return df\n",
    "\n",
    "\n",
    "if __name__ == '__main__':\n",
    "    pool = Pool(processes=10)\n",
    "    result = pool.map(get, [10002])\n",
    "result"
   ]
  },
  {
   "cell_type": "markdown",
   "metadata": {},
   "source": [
    "병렬구조로 네이버 영화 댓글 크롤링하는 코드"
   ]
  },
  {
   "cell_type": "code",
   "execution_count": 22,
   "metadata": {},
   "outputs": [
    {
     "name": "stdout",
     "output_type": "stream",
     "text": [
      "유열의 음악앨범 : 네이버 영화\n"
     ]
    }
   ],
   "source": [
    "if len(title):\n",
    "    ret = ''\n",
    "    for i in title[0]:\n",
    "        if i is str:\n",
    "            ret += i\n",
    "        else:\n",
    "            ret += str(i)\n",
    "    print(ret)"
   ]
  },
  {
   "cell_type": "code",
   "execution_count": null,
   "metadata": {},
   "outputs": [],
   "source": []
  }
 ],
 "metadata": {
  "kernelspec": {
   "display_name": "Python 3",
   "language": "python",
   "name": "python3"
  },
  "language_info": {
   "codemirror_mode": {
    "name": "ipython",
    "version": 3
   },
   "file_extension": ".py",
   "mimetype": "text/x-python",
   "name": "python",
   "nbconvert_exporter": "python",
   "pygments_lexer": "ipython3",
   "version": "3.6.8"
  }
 },
 "nbformat": 4,
 "nbformat_minor": 2
}
